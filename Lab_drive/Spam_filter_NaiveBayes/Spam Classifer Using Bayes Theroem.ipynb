{
 "cells": [
  {
   "cell_type": "markdown",
   "metadata": {},
   "source": [
    "# Using package"
   ]
  },
  {
   "cell_type": "code",
   "execution_count": 25,
   "metadata": {},
   "outputs": [
    {
     "name": "stdout",
     "output_type": "stream",
     "text": [
      "Accuracy: 0.99\n",
      "              precision    recall  f1-score   support\n",
      "\n",
      "    not spam       0.98      1.00      0.99        49\n",
      "        spam       1.00      0.98      0.99        51\n",
      "\n",
      "    accuracy                           0.99       100\n",
      "   macro avg       0.99      0.99      0.99       100\n",
      "weighted avg       0.99      0.99      0.99       100\n",
      "\n"
     ]
    }
   ],
   "source": [
    "import pandas as pd\n",
    "from sklearn.model_selection import train_test_split\n",
    "from sklearn.feature_extraction.text import CountVectorizer\n",
    "from sklearn.naive_bayes import MultinomialNB\n",
    "from sklearn.metrics import accuracy_score, classification_report\n",
    "\n",
    "# Load the data\n",
    "data = pd.read_csv('C:/PERSONAL/Studies/DUK/sem 3/AIML/Lab_drive/Spam_filter_NaiveBayes/Dataset/spam_emails.csv')\n",
    "\n",
    "# Handle NaN values\n",
    "data.dropna(subset=['text', 'label'], inplace=True)\n",
    "\n",
    "# Preprocess the data\n",
    "X = data['text']  # Features\n",
    "y = data['label']  # Labels (spam or not spam)\n",
    "\n",
    "# Split the dataset into training and testing sets\n",
    "X_train, X_test, y_train, y_test = train_test_split(X, y, test_size=0.2, random_state=42)\n",
    "\n",
    "# Vectorization\n",
    "vectorizer = CountVectorizer()\n",
    "X_train_vectorized = vectorizer.fit_transform(X_train)  # Fit and transform on training data\n",
    "X_test_vectorized = vectorizer.transform(X_test)        # Only transform on test data\n",
    "\n",
    "# Train the Naive Bayes classifier\n",
    "model = MultinomialNB()\n",
    "model.fit(X_train_vectorized, y_train)\n",
    "\n",
    "# Make predictions\n",
    "y_pred = model.predict(X_test_vectorized)\n",
    "\n",
    "# Evaluate the model\n",
    "accuracy = accuracy_score(y_test, y_pred)\n",
    "print(f'Accuracy: {accuracy:.2f}')\n",
    "print(classification_report(y_test, y_pred))"
   ]
  },
  {
   "cell_type": "markdown",
   "metadata": {
    "id": "rKNxyyEYL7Od"
   },
   "source": [
    "# From scratch"
   ]
  },
  {
   "cell_type": "code",
   "execution_count": null,
   "metadata": {
    "colab": {
     "base_uri": "https://localhost:8080/"
    },
    "executionInfo": {
     "elapsed": 4254,
     "status": "ok",
     "timestamp": 1727246836713,
     "user": {
      "displayName": "kishore kumar ponnusamy",
      "userId": "17176625435164421761"
     },
     "user_tz": -330
    },
    "id": "5-Of_GJENYKZ",
    "outputId": "f1c7ef1b-cf57-4fdd-c809-84f620b8cd45"
   },
   "outputs": [
    {
     "name": "stdout",
     "output_type": "stream",
     "text": [
      "spam\n"
     ]
    }
   ],
   "source": [
    "import csv\n",
    "import math\n",
    "from collections import defaultdict\n",
    "\n",
    "def load_data(filename):\n",
    "    data = []\n",
    "    with open(filename, 'r') as f:\n",
    "        reader = csv.reader(f)\n",
    "        for row in reader:\n",
    "            data.append({'text': row[0], 'label': row[1]})\n",
    "    return data\n",
    "\n",
    "def calculate_priors(data):\n",
    "    spam_count = sum(1 for item in data if item['label'] == 'spam')\n",
    "    not_spam_count = len(data) - spam_count\n",
    "    prior_spam = spam_count / len(data)\n",
    "    prior_not_spam = not_spam_count / len(data)\n",
    "    return prior_spam, prior_not_spam\n",
    "\n",
    "def calculate_likelihoods(data, prior_spam, prior_not_spam):\n",
    "    likelihood_spam = defaultdict(int)\n",
    "    likelihood_not_spam = defaultdict(int)\n",
    "    for item in data:\n",
    "        words = item['text'].split()\n",
    "        for word in words:\n",
    "            if item['label'] == 'spam':\n",
    "                likelihood_spam[word] += 1\n",
    "            else:\n",
    "                likelihood_not_spam[word] += 1\n",
    "    for word in likelihood_spam:\n",
    "        likelihood_spam[word] /= len([item for item in data if item['label'] == 'spam'])\n",
    "    for word in likelihood_not_spam:\n",
    "        likelihood_not_spam[word] /= len([item for item in data if item['label'] == 'not spam'])\n",
    "    return likelihood_spam, likelihood_not_spam\n",
    "\n",
    "\n",
    "def classify(text, prior_spam, prior_not_spam, likelihood_spam, likelihood_not_spam):\n",
    "    words = text.split()\n",
    "    p_spam = math.log(prior_spam)\n",
    "    p_not_spam = math.log(prior_not_spam)\n",
    "    for word in words:\n",
    "        if word in likelihood_spam:\n",
    "            p_spam += math.log(likelihood_spam[word])\n",
    "        else:\n",
    "            p_spam -= math.log(len([item for item in data if item['label'] == 'spam']))\n",
    "        if word in likelihood_not_spam:\n",
    "            p_not_spam += math.log(likelihood_not_spam[word])\n",
    "        else:\n",
    "            p_not_spam -= math.log(len([item for item in data if item['label'] == 'not spam']))\n",
    "    return 'spam' if p_spam > p_not_spam else 'not spam'\n",
    "\n",
    "data = load_data('/content/drive/MyDrive/Sem 3/AI ML/Lab/Spam_filter_NaiveBayes/Dataset/spam_emails - spam_emails.csv')\n",
    "\n",
    "prior_spam, prior_not_spam = calculate_priors(data)\n",
    "\n",
    "likelihood_spam, likelihood_not_spam = calculate_likelihoods(data, prior_spam, prior_not_spam)\n",
    "\n",
    "test_text = 'This is a test email'\n",
    "print(classify(test_text, prior_spam, prior_not_spam, likelihood_spam, likelihood_not_spam))"
   ]
  },
  {
   "cell_type": "code",
   "execution_count": 6,
   "metadata": {
    "colab": {
     "base_uri": "https://localhost:8080/"
    },
    "executionInfo": {
     "elapsed": 701,
     "status": "ok",
     "timestamp": 1732946911594,
     "user": {
      "displayName": "kishore kumar ponnusamy",
      "userId": "17176625435164421761"
     },
     "user_tz": -330
    },
    "id": "Epaxvjh27scY",
    "outputId": "64c8c655-111a-492b-e8c3-997387f78d04"
   },
   "outputs": [
    {
     "name": "stdout",
     "output_type": "stream",
     "text": [
      "Checking for NaN values in the dataset:\n",
      "text     1\n",
      "label    0\n",
      "dtype: int64\n",
      "Accuracy: 0.99\n",
      "              precision    recall  f1-score   support\n",
      "\n",
      "    not spam       0.98      1.00      0.99        49\n",
      "        spam       1.00      0.98      0.99        51\n",
      "\n",
      "    accuracy                           0.99       100\n",
      "   macro avg       0.99      0.99      0.99       100\n",
      "weighted avg       0.99      0.99      0.99       100\n",
      "\n"
     ]
    }
   ],
   "source": [
    "import pandas as pd\n",
    "from sklearn.model_selection import train_test_split\n",
    "from sklearn.feature_extraction.text import CountVectorizer\n",
    "from sklearn.naive_bayes import MultinomialNB\n",
    "from sklearn.metrics import accuracy_score, classification_report\n",
    "\n",
    "# Load the data\n",
    "data = pd.read_csv('/content/drive/MyDrive/Sem 3/AI ML/Lab/Spam_filter_NaiveBayes/Dataset/spam_emails - spam_emails.csv')\n",
    "\n",
    "# Check for NaN values\n",
    "print(\"Checking for NaN values in the dataset:\")\n",
    "print(data.isnull().sum())\n",
    "\n",
    "# Handle NaN values\n",
    "# Option 1: Drop rows with NaN values\n",
    "data.dropna(subset=['text', 'label'], inplace=True)\n",
    "\n",
    "# Option 2: Fill NaN values with an empty string (uncomment if you prefer this)\n",
    "# data['text'].fillna('', inplace=True)\n",
    "\n",
    "# Preprocess the data\n",
    "X = data['text']  # Features\n",
    "y = data['label']  # Labels (spam or not spam)\n",
    "\n",
    "# Split the dataset into training and testing sets\n",
    "X_train, X_test, y_train, y_test = train_test_split(X, y, test_size=0.2, random_state=42)\n",
    "\n",
    "# Vectorization\n",
    "vectorizer = CountVectorizer()\n",
    "X_train_vectorized = vectorizer.fit_transform(X_train)\n",
    "X_test_vectorized = vectorizer.transform(X_test)\n",
    "\n",
    "# Train the Naive Bayes classifier\n",
    "model = MultinomialNB()\n",
    "model.fit(X_train_vectorized, y_train)\n",
    "\n",
    "# Make predictions\n",
    "y_pred = model.predict(X_test_vectorized)\n",
    "\n",
    "# Evaluate the model\n",
    "accuracy = accuracy_score(y_test, y_pred)\n",
    "print(f'Accuracy: {accuracy:.2f}')\n",
    "print(classification_report(y_test, y_pred))"
   ]
  },
  {
   "cell_type": "code",
   "execution_count": null,
   "metadata": {
    "id": "B7Tiu1GopruX"
   },
   "outputs": [],
   "source": []
  }
 ],
 "metadata": {
  "colab": {
   "authorship_tag": "ABX9TyPDTTlPqRKuVDXWrjEkubzN",
   "mount_file_id": "1bgBkemObRZnRihZ4QzG5TNg-qD0AaCsT",
   "provenance": []
  },
  "kernelspec": {
   "display_name": "AI_ML_LAB",
   "language": "python",
   "name": "python3"
  },
  "language_info": {
   "codemirror_mode": {
    "name": "ipython",
    "version": 3
   },
   "file_extension": ".py",
   "mimetype": "text/x-python",
   "name": "python",
   "nbconvert_exporter": "python",
   "pygments_lexer": "ipython3",
   "version": "3.13.0"
  }
 },
 "nbformat": 4,
 "nbformat_minor": 0
}
