{
 "cells": [
  {
   "cell_type": "markdown",
   "metadata": {},
   "source": [
    "# Using package"
   ]
  },
  {
   "cell_type": "code",
   "execution_count": 9,
   "metadata": {},
   "outputs": [
    {
     "name": "stdout",
     "output_type": "stream",
     "text": [
      "slope: 1.6000000000000003\n",
      "0.1999999999999993\n",
      "[1.8 3.4 5.  6.6 8.2]\n",
      "0.9846153846153846\n"
     ]
    }
   ],
   "source": [
    "import numpy as np\n",
    "from sklearn.linear_model import LinearRegression\n",
    "\n",
    "X = np.array([1, 2, 3, 4, 5]).reshape(-1, 1)\n",
    "y = np.array([2, 3, 5, 7, 8])\n",
    "\n",
    "model = LinearRegression()\n",
    "\n",
    "model.fit(X,y)\n",
    "\n",
    "slope = model.coef_[0]\n",
    "intercept = model.intercept_\n",
    "print(f\"slope: {slope}\")\n",
    "print(intercept)\n",
    "\n",
    "\n",
    "y_pred = model.predict(X)\n",
    "print(y_pred)\n",
    "\n",
    "\n",
    "r2_score = model.score(X, y)\n",
    "print(r2_score)\n"
   ]
  },
  {
   "cell_type": "markdown",
   "metadata": {},
   "source": [
    "# From Scratch"
   ]
  },
  {
   "cell_type": "code",
   "execution_count": 1,
   "metadata": {
    "executionInfo": {
     "elapsed": 452,
     "status": "ok",
     "timestamp": 1728989981714,
     "user": {
      "displayName": "kishore kumar ponnusamy",
      "userId": "17176625435164421761"
     },
     "user_tz": -330
    },
    "id": "8FysoROQ1Rbc"
   },
   "outputs": [],
   "source": [
    "import numpy as np\n",
    "\n",
    "class LinearRegression:\n",
    "    def __init__(self, lr=0.001, n_iters=1000):\n",
    "        self.lr = lr\n",
    "        self.n_iters = n_iters\n",
    "        self.weights = None\n",
    "        self.bias = None\n",
    "\n",
    "    def fit(self, X, y):\n",
    "        n_samples, n_features = X.shape\n",
    "        self.weights = np.zeros(n_features)\n",
    "        self.bias = 0\n",
    "\n",
    "        tol = 1e-5\n",
    "        prev_loss = 0\n",
    "        for i in range(self.n_iters):\n",
    "            y_pred = np.dot(X, self.weights) + self.bias\n",
    "            dw = (1/n_samples) * (np.dot(X.T, (y_pred - y)))\n",
    "            db = (1/n_samples) * (np.sum(y_pred - y))\n",
    "            self.weights = self.weights - (self.lr * dw)\n",
    "            self.bias = self.bias - (self.lr * db)\n",
    "\n",
    "            current_loss = np.mean(np.square(y_pred - y))\n",
    "\n",
    "            if abs(current_loss - prev_loss) < tol:\n",
    "                break\n",
    "\n",
    "            prev_loss = current_loss\n",
    "\n",
    "    def predict(self, X):\n",
    "        return np.dot(X, self.weights) + self.bias"
   ]
  },
  {
   "cell_type": "code",
   "execution_count": 3,
   "metadata": {
    "colab": {
     "base_uri": "https://localhost:8080/",
     "height": 482
    },
    "executionInfo": {
     "elapsed": 1324,
     "status": "ok",
     "timestamp": 1728990062408,
     "user": {
      "displayName": "kishore kumar ponnusamy",
      "userId": "17176625435164421761"
     },
     "user_tz": -330
    },
    "id": "Cy489KOn1UT3",
    "outputId": "e1f7226f-8d6b-49ec-8439-3aa3bfae804b"
   },
   "outputs": [
    {
     "name": "stdout",
     "output_type": "stream",
     "text": [
      "Weights: [2.12375376]\n",
      "Bias: -0.7247268769283248\n",
      "Predicted values: [1.39902688 3.52278064 5.6465344  7.77028816 9.89404192]\n"
     ]
    },
    {
     "data": {
      "image/png": "[encoded data removed]",
      "text/plain": [
       "<Figure size 640x480 with 1 Axes>"
      ]
     },
     "metadata": {},
     "output_type": "display_data"
    }
   ],
   "source": [
    "import numpy as np\n",
    "import matplotlib.pyplot as plt\n",
    "\n",
    "# Create a Linear Regression object\n",
    "lr = LinearRegression(lr=0.01, n_iters=1000)\n",
    "\n",
    "# Generate some sample data\n",
    "X = np.array([1, 2, 3, 4, 5]).reshape((-1, 1))\n",
    "y = np.array([2, 3, 5, 7, 11])\n",
    "\n",
    "# Fit the model to the data\n",
    "lr.fit(X, y)\n",
    "\n",
    "# Print the weights and bias\n",
    "print(\"Weights:\", lr.weights)\n",
    "print(\"Bias:\", lr.bias)\n",
    "\n",
    "# Make predictions on the training data\n",
    "y_pred = lr.predict(X)\n",
    "\n",
    "# Print the predicted values\n",
    "print(\"Predicted values:\", y_pred)\n",
    "\n",
    "# Plot the data and the predicted line\n",
    "plt.scatter(X, y, label=\"Data\")\n",
    "plt.plot(X, y_pred, label=\"Predicted line\")\n",
    "plt.legend()\n",
    "plt.show()"
   ]
  },
  {
   "cell_type": "code",
   "execution_count": null,
   "metadata": {
    "id": "6_L4PP3S1fBa"
   },
   "outputs": [],
   "source": []
  }
 ],
 "metadata": {
  "colab": {
   "authorship_tag": "ABX9TyMB5H/65qjtMaD8YAwe6Z8y",
   "provenance": []
  },
  "kernelspec": {
   "display_name": "AI_ML_LAB",
   "language": "python",
   "name": "python3"
  },
  "language_info": {
   "codemirror_mode": {
    "name": "ipython",
    "version": 3
   },
   "file_extension": ".py",
   "mimetype": "text/x-python",
   "name": "python",
   "nbconvert_exporter": "python",
   "pygments_lexer": "ipython3",
   "version": "3.13.0"
  }
 },
 "nbformat": 4,
 "nbformat_minor": 0
}
