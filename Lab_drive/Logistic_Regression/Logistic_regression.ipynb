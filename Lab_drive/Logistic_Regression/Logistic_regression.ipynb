{
 "cells": [
  {
   "cell_type": "markdown",
   "metadata": {},
   "source": [
    "# Using package"
   ]
  },
  {
   "cell_type": "code",
   "execution_count": 7,
   "metadata": {},
   "outputs": [
    {
     "name": "stdout",
     "output_type": "stream",
     "text": [
      "prediction: [0 0 0 1 1]\n",
      "accuracy: 1.0\n",
      "confujssion matrix: [[3 0]\n",
      " [0 2]]\n",
      "classification report:               precision    recall  f1-score   support\n",
      "\n",
      "           0       1.00      1.00      1.00         3\n",
      "           1       1.00      1.00      1.00         2\n",
      "\n",
      "    accuracy                           1.00         5\n",
      "   macro avg       1.00      1.00      1.00         5\n",
      "weighted avg       1.00      1.00      1.00         5\n",
      "\n"
     ]
    }
   ],
   "source": [
    "import numpy as np\n",
    "from sklearn.linear_model import LogisticRegression\n",
    "from sklearn.metrics import accuracy_score, confusion_matrix, classification_report\n",
    "\n",
    "X = np.array([[1], [2], [3], [4], [5]])\n",
    "y = np.array([0, 0, 0, 1, 1])\n",
    "\n",
    "model = LogisticRegression()\n",
    "\n",
    "model.fit(X, y)\n",
    "\n",
    "y_pred = model.predict(X)\n",
    "\n",
    "print(f\"prediction: {y_pred}\")\n",
    "print(f\"accuracy: {accuracy_score(y, y_pred)}\")\n",
    "print(f\"confujssion matrix: {confusion_matrix(y, y_pred)}\")\n",
    "print(f\"classification report: {classification_report(y, y_pred)}\")"
   ]
  },
  {
   "cell_type": "markdown",
   "metadata": {},
   "source": [
    "# From Scratch"
   ]
  },
  {
   "cell_type": "code",
   "execution_count": 1,
   "metadata": {
    "colab": {
     "base_uri": "https://localhost:8080/",
     "height": 559
    },
    "executionInfo": {
     "elapsed": 12108,
     "status": "ok",
     "timestamp": 1729607164962,
     "user": {
      "displayName": "kishore kumar ponnusamy",
      "userId": "17176625435164421761"
     },
     "user_tz": -330
    },
    "id": "KW-8CsRdnmR8",
    "outputId": "bf7db093-aa73-4244-c9df-bc90008c3a73"
   },
   "outputs": [
    {
     "name": "stderr",
     "output_type": "stream",
     "text": [
      " 30%|███       | 9/30 [00:11<00:26,  1.24s/it]\n"
     ]
    },
    {
     "data": {
      "image/png": "[encoded data removed]",
      "text/plain": [
       "<Figure size 640x480 with 1 Axes>"
      ]
     },
     "metadata": {},
     "output_type": "display_data"
    },
    {
     "name": "stdout",
     "output_type": "stream",
     "text": [
      "Weights: [-0.00825401  0.0075607  -0.00207471  0.00570453  0.00259962 -0.00038552\n",
      "  0.01613882 -0.00408863  0.00730513 -0.0173125  -0.00677572  0.00782492\n",
      "  0.00191422  0.00382049 -0.00219892]\n",
      "Bias: 0.834446462860423\n"
     ]
    }
   ],
   "source": [
    "import numpy as np\n",
    "import matplotlib.pyplot as plt\n",
    "from tqdm import tqdm\n",
    "\n",
    "# Create a synthetic dataset from scratch\n",
    "def create_classification_data(n_samples, n_features, n_informative, n_redundant, n_classes, weights, class_sep, random_state):\n",
    "    np.random.seed(random_state)\n",
    "    n_informative = min(n_features, n_informative)\n",
    "    n_redundant = min(n_features - n_informative, n_redundant)\n",
    "\n",
    "    informative = np.random.randn(n_samples, n_informative) * class_sep\n",
    "\n",
    "    redundant = np.dot(informative, np.random.rand(n_informative, n_redundant))\n",
    "\n",
    "    random_features = np.random.randn(n_samples, n_features - n_informative - n_redundant)\n",
    "\n",
    "    X = np.hstack((informative, redundant, random_features))\n",
    "\n",
    "    y = np.random.binomial(1, weights[0], size=n_samples)\n",
    "\n",
    "    return X, y\n",
    "\n",
    "# Train-test split\n",
    "def train_test_split(X, y, test_size, random_state):\n",
    "    np.random.seed(random_state)\n",
    "    indices = np.arange(X.shape[0])\n",
    "    np.random.shuffle(indices)\n",
    "\n",
    "    split = int(X.shape[0] * (1 - test_size))\n",
    "    X_train = X[indices[:split]]\n",
    "    y_train = y[indices[:split]]\n",
    "    X_test = X[indices[split:]]\n",
    "    y_test = y[indices[split:]]\n",
    "\n",
    "    return X_train, X_test, y_train, y_test\n",
    "\n",
    "# Initialize weights and bias\n",
    "def initialize_weights(row_vector):\n",
    "    w = np.zeros_like(row_vector)\n",
    "    b = 0.0\n",
    "    return w, b\n",
    "\n",
    "# Sigmoid function\n",
    "def sigmoid(z):\n",
    "    return 1 / (1 + np.exp(-z))\n",
    "\n",
    "# Log loss function\n",
    "def logloss(y_true, y_pred):\n",
    "    n = y_true.shape[0]\n",
    "    indi_loss = np.dot(y_true, np.log10(y_pred)) + np.dot((1 - y_true), np.log10(1 - y_pred))\n",
    "    loss = (-1 / n) * np.sum(indi_loss)\n",
    "    return loss\n",
    "\n",
    "# Gradient calculations\n",
    "def gradient_dw(x, y, w, b, alpha, N):\n",
    "    dw = (x * (y - sigmoid(np.dot(w, x) + b))) - ((alpha / N) * w)\n",
    "    return dw\n",
    "\n",
    "def gradient_db(x, y, w, b):\n",
    "    db = y - sigmoid(np.dot(w, x) + b)\n",
    "    return db\n",
    "\n",
    "def pred(w, b, X):\n",
    "    N = len(X)\n",
    "    predictions = []\n",
    "    for i in range(N):\n",
    "        z = np.dot(w, X[i]) + b\n",
    "        predictions.append(sigmoid(z))\n",
    "    return np.array(predictions)\n",
    "\n",
    "# Training function\n",
    "def train(X_train, y_train, X_test, y_test, epochs, alpha, eta0):\n",
    "    train_loss = []\n",
    "    test_loss = []\n",
    "    w, b = initialize_weights(X_train[0])\n",
    "    N = X_train.shape[0]\n",
    "\n",
    "    for e in tqdm(range(epochs)):\n",
    "        for i in range(X_train.shape[0]):\n",
    "            dw = gradient_dw(X_train[i], y_train[i], w, b, alpha, N)\n",
    "            db = gradient_db(X_train[i], y_train[i], w, b)\n",
    "            w += eta0 * dw\n",
    "            b += eta0 * db\n",
    "\n",
    "        # Calculate losses\n",
    "        y_train_pred = pred(w, b, X_train)\n",
    "        tr_loss = logloss(y_train, y_train_pred)\n",
    "        train_loss.append(tr_loss)\n",
    "\n",
    "        y_test_pred = pred(w, b, X_test)\n",
    "        te_loss = logloss(y_test, y_test_pred)\n",
    "        test_loss.append(te_loss)\n",
    "\n",
    "        # Early stopping\n",
    "        if e > 0 and abs(tr_loss - train_loss[e - 1]) < 1e-7:\n",
    "            break\n",
    "\n",
    "    return w, b, train_loss, test_loss\n",
    "\n",
    "# Create a dataset\n",
    "X, y = create_classification_data(n_samples=50000, n_features=15, n_informative=10, n_redundant=5,\n",
    "                                  n_classes=2, weights=[0.7], class_sep=0.7, random_state=15)\n",
    "\n",
    "# Split the dataset\n",
    "X_train, X_test, y_train, y_test = train_test_split(X, y, test_size=0.25, random_state=15)\n",
    "\n",
    "# Train the model\n",
    "alpha = 0.0001\n",
    "eta0 = 0.0001\n",
    "epochs = 30\n",
    "w, b, train_loss, test_loss = train(X_train, y_train, X_test, y_test, epochs, alpha, eta0)\n",
    "\n",
    "plt.plot(train_loss, label='Train Loss')\n",
    "plt.plot(test_loss, label='Test Loss')\n",
    "plt.xlabel('Epochs')\n",
    "plt.ylabel('Loss')\n",
    "plt.legend()\n",
    "plt.title('Loss vs Epochs')\n",
    "plt.show()\n",
    "\n",
    "print(\"Weights:\", w)\n",
    "print(\"Bias:\", b)\n"
   ]
  },
  {
   "cell_type": "code",
   "execution_count": null,
   "metadata": {
    "id": "QAPpeDDonrGb"
   },
   "outputs": [],
   "source": []
  }
 ],
 "metadata": {
  "colab": {
   "authorship_tag": "ABX9TyNuPKLg+HIS7HkJVIhnTfP8",
   "provenance": []
  },
  "kernelspec": {
   "display_name": "AI_ML_LAB",
   "language": "python",
   "name": "python3"
  },
  "language_info": {
   "codemirror_mode": {
    "name": "ipython",
    "version": 3
   },
   "file_extension": ".py",
   "mimetype": "text/x-python",
   "name": "python",
   "nbconvert_exporter": "python",
   "pygments_lexer": "ipython3",
   "version": "3.13.0"
  }
 },
 "nbformat": 4,
 "nbformat_minor": 0
}
