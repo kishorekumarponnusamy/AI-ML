{
 "cells": [
  {
   "cell_type": "markdown",
   "metadata": {
    "id": "Y3xq1jxEpjkE"
   },
   "source": [
    "# OR"
   ]
  },
  {
   "cell_type": "markdown",
   "metadata": {},
   "source": [
    "## Using package"
   ]
  },
  {
   "cell_type": "code",
   "execution_count": null,
   "metadata": {},
   "outputs": [
    {
     "name": "stdout",
     "output_type": "stream",
     "text": [
      "prediction[1 0 1 1]\n"
     ]
    }
   ],
   "source": [
    "import numpy as np\n",
    "from sklearn.linear_model import Perceptron\n",
    "\n",
    "\n",
    "X = np.array([[0,1], [0,0], [1,1], [1,0]])\n",
    "y = np.array([1, 0, 1, 1])\n",
    "\n",
    "model = Perceptron(max_iter = 1000, tol = 1e-2)\n",
    "model.fit(X, y)\n",
    "\n",
    "prediction = model.predict(X)\n",
    "\n",
    "print(f\"prediction{prediction}\")\n",
    "\n"
   ]
  },
  {
   "cell_type": "markdown",
   "metadata": {},
   "source": [
    "## From scratch"
   ]
  },
  {
   "cell_type": "code",
   "execution_count": 3,
   "metadata": {
    "colab": {
     "base_uri": "https://localhost:8080/"
    },
    "executionInfo": {
     "elapsed": 430,
     "status": "ok",
     "timestamp": 1727246923102,
     "user": {
      "displayName": "kishore kumar ponnusamy",
      "userId": "17176625435164421761"
     },
     "user_tz": -330
    },
    "id": "3aDoGGa0QFoo",
    "outputId": "bc76940f-0d54-4054-a3f5-3d0b2d040942"
   },
   "outputs": [
    {
     "name": "stdout",
     "output_type": "stream",
     "text": [
      "OR Logic Predictions:\n",
      "Input: [0 1], Predicted Output: [1]\n",
      "Input: [0 0], Predicted Output: [0]\n",
      "Input: [1 1], Predicted Output: [1]\n",
      "Input: [1 0], Predicted Output: [1]\n"
     ]
    }
   ],
   "source": [
    "import numpy as np\n",
    "\n",
    "# X = np.array([[0, 0], [0, 1], [1, 0], [1, 1]])\n",
    "# y = np.array([0, 1, 1, 1])\n",
    "\n",
    "X = np.array([ [0, 1],[0, 0], [1, 1], [1, 0]])\n",
    "y = np.array([1, 0, 1, 1])\n",
    "\n",
    "weights = np.random.rand(2)\n",
    "bias = np.random.rand(1)\n",
    "learning_rate = 0.1\n",
    "epochs = 1000\n",
    "\n",
    "def step_function(x):\n",
    "    return np.where(x > 0, 1, 0)\n",
    "\n",
    "for _ in range(epochs):\n",
    "    for i in range(len(X)):\n",
    "        weighted_sum = np.dot(X[i], weights) + bias\n",
    "        output = step_function(weighted_sum)\n",
    "        error = y[i] - output\n",
    "        weights += learning_rate * error * X[i]\n",
    "        bias += learning_rate * error\n",
    "\n",
    "print(\"OR Logic Predictions:\")\n",
    "for i in range(len(X)):\n",
    "    result = step_function(np.dot(X[i], weights) + bias)\n",
    "    print(f\"Input: {X[i]}, Predicted Output: {result}\")\n"
   ]
  },
  {
   "cell_type": "markdown",
   "metadata": {
    "id": "bi1KBa5X_-q7"
   },
   "source": [
    "# AND"
   ]
  },
  {
   "cell_type": "markdown",
   "metadata": {},
   "source": [
    "## Using Package"
   ]
  },
  {
   "cell_type": "code",
   "execution_count": 27,
   "metadata": {},
   "outputs": [
    {
     "name": "stdout",
     "output_type": "stream",
     "text": [
      "prediction: [0 0 1 0]\n"
     ]
    }
   ],
   "source": [
    "import numpy as np\n",
    "from sklearn.linear_model import Perceptron\n",
    "\n",
    "X = np.array([[0,0], [0,1], [1,1], [1,0]])\n",
    "y = np.array([0, 0, 1, 0])\n",
    "\n",
    "model = Perceptron(max_iter = 1000, tol = 1e-2)\n",
    "\n",
    "model.fit(X, y)\n",
    "\n",
    "prediction = model.predict(X)\n",
    "\n",
    "print(f\"prediction: {prediction}\")"
   ]
  },
  {
   "cell_type": "markdown",
   "metadata": {},
   "source": [
    "## From scratch"
   ]
  },
  {
   "cell_type": "code",
   "execution_count": 12,
   "metadata": {
    "colab": {
     "base_uri": "https://localhost:8080/"
    },
    "executionInfo": {
     "elapsed": 859,
     "status": "ok",
     "timestamp": 1727248013941,
     "user": {
      "displayName": "kishore kumar ponnusamy",
      "userId": "17176625435164421761"
     },
     "user_tz": -330
    },
    "id": "dbZj0tmZAAPm",
    "outputId": "0e45879e-5dd1-4480-f157-22afa41d0f0c"
   },
   "outputs": [
    {
     "name": "stdout",
     "output_type": "stream",
     "text": [
      "AND Logic Predictions:\n",
      "Input: [0 1], Predicted Output: [0]\n",
      "Input: [0 0], Predicted Output: [0]\n",
      "Input: [1 1], Predicted Output: [1]\n",
      "Input: [1 0], Predicted Output: [0]\n"
     ]
    }
   ],
   "source": [
    "import numpy as np\n",
    "\n",
    "# X = np.array([[0, 0], [0, 1], [1, 0], [1, 1]])\n",
    "# y = np.array([0, 0, 0, 1])\n",
    "\n",
    "X = np.array([[0, 1], [0, 0], [1, 1], [1, 0]])\n",
    "y = np.array([0, 0, 1, 0])\n",
    "\n",
    "weights = np.random.rand(2)\n",
    "bias = np.random.rand(1)\n",
    "learning_rate = 0.1\n",
    "epochs = 1000\n",
    "\n",
    "def step_function(x):\n",
    "    return np.where(x > 0, 1, 0)\n",
    "\n",
    "for _ in range(epochs):\n",
    "    for i in range(len(X)):\n",
    "        weighted_sum = np.dot(X[i], weights) + bias\n",
    "        output = step_function(weighted_sum)\n",
    "        error = y[i] - output\n",
    "        weights += learning_rate * error * X[i]\n",
    "        bias += learning_rate * error\n",
    "\n",
    "print(\"AND Logic Predictions:\")\n",
    "for i in range(len(X)):\n",
    "    result = step_function(np.dot(X[i], weights) + bias)\n",
    "    print(f\"Input: {X[i]}, Predicted Output: {result}\")\n"
   ]
  },
  {
   "cell_type": "markdown",
   "metadata": {
    "id": "EB_Dn4XF8SuK"
   },
   "source": [
    "# XOR"
   ]
  },
  {
   "cell_type": "markdown",
   "metadata": {},
   "source": [
    "## Using package"
   ]
  },
  {
   "cell_type": "code",
   "execution_count": 24,
   "metadata": {},
   "outputs": [
    {
     "name": "stdout",
     "output_type": "stream",
     "text": [
      "Predictions: [0 1 1 0]\n"
     ]
    }
   ],
   "source": [
    "import numpy as np\n",
    "from sklearn.neural_network import MLPClassifier\n",
    "\n",
    "# XOR dataset\n",
    "X = np.array([[0, 0], [0, 1], [1, 0], [1, 1]])\n",
    "y = np.array([0, 1, 1, 0])  # XOR output\n",
    "\n",
    "# Multi-layer perceptron\n",
    "model = MLPClassifier(hidden_layer_sizes=(4,), max_iter=10000, activation=\"tanh\", solver=\"adam\", random_state=42)\n",
    "model.fit(X, y)\n",
    "\n",
    "# Predict on the same dataset\n",
    "predictions = model.predict(X)\n",
    "\n",
    "print(f\"Predictions: {predictions}\")\n"
   ]
  },
  {
   "cell_type": "markdown",
   "metadata": {},
   "source": [
    "## From scratch"
   ]
  },
  {
   "cell_type": "code",
   "execution_count": 11,
   "metadata": {
    "colab": {
     "base_uri": "https://localhost:8080/"
    },
    "executionInfo": {
     "elapsed": 1072,
     "status": "ok",
     "timestamp": 1727247883752,
     "user": {
      "displayName": "kishore kumar ponnusamy",
      "userId": "17176625435164421761"
     },
     "user_tz": -330
    },
    "id": "Sy4h11iw-Llz",
    "outputId": "1cf67bcd-3da4-4bd9-e82f-445a4fa4925b"
   },
   "outputs": [
    {
     "name": "stdout",
     "output_type": "stream",
     "text": [
      "Trained XOR Predictions:\n",
      "Input: [0 1], Predicted Output: [[1.]]\n",
      "Input: [0 0], Predicted Output: [[0.]]\n",
      "Input: [1 1], Predicted Output: [[0.]]\n",
      "Input: [1 0], Predicted Output: [[1.]]\n"
     ]
    }
   ],
   "source": [
    "import numpy as np\n",
    "\n",
    "def sigmoid(x):\n",
    "    return 1 / (1 + np.exp(-x))\n",
    "\n",
    "def sigmoid_derivative(x):\n",
    "    return x * (1 - x)\n",
    "\n",
    "# X = np.array([[0, 0],\n",
    "#               [0, 1],\n",
    "#               [1, 0],\n",
    "#               [1, 1]])\n",
    "\n",
    "# y = np.array([[0],\n",
    "#               [1],\n",
    "#               [1],\n",
    "#               [0]])\n",
    "\n",
    "X = np.array([[0, 1],\n",
    "              [0, 0],\n",
    "              [1, 1],\n",
    "              [1, 0]])\n",
    "\n",
    "y = np.array([[1],\n",
    "              [0],\n",
    "              [0],\n",
    "              [1]])\n",
    "\n",
    "np.random.seed(42)\n",
    "input_layer_neurons = X.shape[1]\n",
    "hidden_layer_neurons = 2\n",
    "output_neurons = 1\n",
    "\n",
    "# Random initialization of weights and biases\n",
    "weights_input_hidden = np.random.rand(input_layer_neurons, hidden_layer_neurons)\n",
    "weights_hidden_output = np.random.rand(hidden_layer_neurons, output_neurons)\n",
    "bias_hidden = np.random.rand(1, hidden_layer_neurons)\n",
    "bias_output = np.random.rand(1, output_neurons)\n",
    "\n",
    "# Learning rate\n",
    "learning_rate = 0.1\n",
    "\n",
    "# Training loop\n",
    "epochs = 10000\n",
    "for epoch in range(epochs):\n",
    "    # Feedforward\n",
    "    hidden_input = np.dot(X, weights_input_hidden) + bias_hidden\n",
    "    hidden_output = sigmoid(hidden_input)\n",
    "\n",
    "    output_input = np.dot(hidden_output, weights_hidden_output) + bias_output\n",
    "    predicted_output = sigmoid(output_input)\n",
    "\n",
    "    # Calculate error (output layer)\n",
    "    error_output = y - predicted_output\n",
    "    d_predicted_output = error_output * sigmoid_derivative(predicted_output)\n",
    "\n",
    "    # Backpropagation (hidden layer)\n",
    "    error_hidden_layer = d_predicted_output.dot(weights_hidden_output.T)\n",
    "    d_hidden_output = error_hidden_layer * sigmoid_derivative(hidden_output)\n",
    "\n",
    "    # Update weights and biases\n",
    "    weights_hidden_output += hidden_output.T.dot(d_predicted_output) * learning_rate\n",
    "    bias_output += np.sum(d_predicted_output, axis=0, keepdims=True) * learning_rate\n",
    "    weights_input_hidden += X.T.dot(d_hidden_output) * learning_rate\n",
    "    bias_hidden += np.sum(d_hidden_output, axis=0, keepdims=True) * learning_rate\n",
    "\n",
    "print(\"Trained XOR Predictions:\")\n",
    "for i in range(len(X)):\n",
    "    hidden_input = np.dot(X[i], weights_input_hidden) + bias_hidden\n",
    "    hidden_output = sigmoid(hidden_input)\n",
    "\n",
    "    output_input = np.dot(hidden_output, weights_hidden_output) + bias_output\n",
    "    predicted_output = sigmoid(output_input)\n",
    "\n",
    "    print(f\"Input: {X[i]}, Predicted Output: {np.round(predicted_output)}\")"
   ]
  },
  {
   "cell_type": "code",
   "execution_count": null,
   "metadata": {
    "id": "eZXcJk4w-4fO"
   },
   "outputs": [],
   "source": []
  }
 ],
 "metadata": {
  "colab": {
   "authorship_tag": "ABX9TyPcHMWdiD/V9RJleuXHAtpx",
   "collapsed_sections": [
    "Y3xq1jxEpjkE",
    "bi1KBa5X_-q7",
    "EB_Dn4XF8SuK"
   ],
   "provenance": []
  },
  "kernelspec": {
   "display_name": "AI_ML_LAB",
   "language": "python",
   "name": "python3"
  },
  "language_info": {
   "codemirror_mode": {
    "name": "ipython",
    "version": 3
   },
   "file_extension": ".py",
   "mimetype": "text/x-python",
   "name": "python",
   "nbconvert_exporter": "python",
   "pygments_lexer": "ipython3",
   "version": "3.13.0"
  }
 },
 "nbformat": 4,
 "nbformat_minor": 0
}
